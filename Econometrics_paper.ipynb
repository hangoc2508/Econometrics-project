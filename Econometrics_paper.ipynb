{
  "nbformat": 4,
  "nbformat_minor": 0,
  "metadata": {
    "colab": {
      "provenance": [],
      "gpuType": "V5E1",
      "authorship_tag": "ABX9TyO6Q2o3Dz/cIAt6YhVA8CXY",
      "include_colab_link": true
    },
    "kernelspec": {
      "name": "ir",
      "display_name": "R"
    },
    "language_info": {
      "name": "R"
    },
    "accelerator": "TPU"
  },
  "cells": [
    {
      "cell_type": "markdown",
      "metadata": {
        "id": "view-in-github",
        "colab_type": "text"
      },
      "source": [
        "<a href=\"https://colab.research.google.com/github/hangoc2508/Econometrics-project/blob/main/Econometrics_paper.ipynb\" target=\"_parent\"><img src=\"https://colab.research.google.com/assets/colab-badge.svg\" alt=\"Open In Colab\"/></a>"
      ]
    },
    {
      "cell_type": "code",
      "source": [
        "install.packages(\"haven\")\n",
        "install.packages(\"tidyverse\")\n",
        "install.packages(\"readxl\")"
      ],
      "metadata": {
        "id": "4yYxYvpN1jAY",
        "colab": {
          "base_uri": "https://localhost:8080/"
        },
        "outputId": "cd7e013b-8e9b-46f1-d9bd-0683f893e230"
      },
      "execution_count": 49,
      "outputs": [
        {
          "output_type": "stream",
          "name": "stderr",
          "text": [
            "Installing package into ‘/usr/local/lib/R/site-library’\n",
            "(as ‘lib’ is unspecified)\n",
            "\n",
            "Warning message in install.packages(\"haven\"):\n",
            "“installation of package ‘haven’ had non-zero exit status”\n",
            "Installing package into ‘/usr/local/lib/R/site-library’\n",
            "(as ‘lib’ is unspecified)\n",
            "\n",
            "Installing package into ‘/usr/local/lib/R/site-library’\n",
            "(as ‘lib’ is unspecified)\n",
            "\n"
          ]
        }
      ]
    },
    {
      "cell_type": "code",
      "source": [
        "library(haven)\n",
        "library(tidyverse)\n",
        "library(readxl)"
      ],
      "metadata": {
        "id": "vA1_87_A0YM4"
      },
      "execution_count": 50,
      "outputs": []
    },
    {
      "cell_type": "code",
      "execution_count": 51,
      "metadata": {
        "id": "CjSvUwhYlgAC",
        "colab": {
          "base_uri": "https://localhost:8080/",
          "height": 229
        },
        "outputId": "843eca5b-4137-4964-b476-7dc1a5e4d9b0"
      },
      "outputs": [
        {
          "output_type": "display_data",
          "data": {
            "text/html": [
              "2406478"
            ],
            "text/markdown": "2406478",
            "text/latex": "2406478",
            "text/plain": [
              "[1] 2406478"
            ]
          },
          "metadata": {}
        },
        {
          "output_type": "display_data",
          "data": {
            "text/html": [
              "<table class=\"dataframe\">\n",
              "<caption>A data.frame: 3 × 16</caption>\n",
              "<thead>\n",
              "\t<tr><th></th><th scope=col>state</th><th scope=col>interview_month</th><th scope=col>interview_year</th><th scope=col>age_group</th><th scope=col>sex</th><th scope=col>education_level</th><th scope=col>employment_status</th><th scope=col>househole_income</th><th scope=col>number_children_household</th><th scope=col>race</th><th scope=col>cig_status</th><th scope=col>ecig_status</th><th scope=col>drinks_daily</th><th scope=col>drinks_weekly</th><th scope=col>binge_drink_status</th><th scope=col>heavy_drink_status</th></tr>\n",
              "\t<tr><th></th><th scope=col>&lt;int&gt;</th><th scope=col>&lt;int&gt;</th><th scope=col>&lt;int&gt;</th><th scope=col>&lt;int&gt;</th><th scope=col>&lt;int&gt;</th><th scope=col>&lt;int&gt;</th><th scope=col>&lt;int&gt;</th><th scope=col>&lt;int&gt;</th><th scope=col>&lt;int&gt;</th><th scope=col>&lt;int&gt;</th><th scope=col>&lt;int&gt;</th><th scope=col>&lt;int&gt;</th><th scope=col>&lt;int&gt;</th><th scope=col>&lt;int&gt;</th><th scope=col>&lt;int&gt;</th><th scope=col>&lt;int&gt;</th></tr>\n",
              "</thead>\n",
              "<tbody>\n",
              "\t<tr><th scope=row>1</th><td>1</td><td>1</td><td>2016</td><td> 5</td><td>1</td><td>4</td><td>1</td><td>5</td><td> 3</td><td>1</td><td>4</td><td>1</td><td> 0</td><td>  0</td><td>1</td><td>1</td></tr>\n",
              "\t<tr><th scope=row>2</th><td>1</td><td>1</td><td>2016</td><td> 8</td><td>2</td><td>4</td><td>5</td><td>7</td><td>88</td><td>1</td><td>4</td><td>1</td><td> 0</td><td>  0</td><td>1</td><td>1</td></tr>\n",
              "\t<tr><th scope=row>3</th><td>1</td><td>1</td><td>2016</td><td>13</td><td>2</td><td>5</td><td>7</td><td>7</td><td>88</td><td>1</td><td>1</td><td>1</td><td>14</td><td>100</td><td>1</td><td>1</td></tr>\n",
              "</tbody>\n",
              "</table>\n"
            ],
            "text/markdown": "\nA data.frame: 3 × 16\n\n| <!--/--> | state &lt;int&gt; | interview_month &lt;int&gt; | interview_year &lt;int&gt; | age_group &lt;int&gt; | sex &lt;int&gt; | education_level &lt;int&gt; | employment_status &lt;int&gt; | househole_income &lt;int&gt; | number_children_household &lt;int&gt; | race &lt;int&gt; | cig_status &lt;int&gt; | ecig_status &lt;int&gt; | drinks_daily &lt;int&gt; | drinks_weekly &lt;int&gt; | binge_drink_status &lt;int&gt; | heavy_drink_status &lt;int&gt; |\n|---|---|---|---|---|---|---|---|---|---|---|---|---|---|---|---|---|\n| 1 | 1 | 1 | 2016 |  5 | 1 | 4 | 1 | 5 |  3 | 1 | 4 | 1 |  0 |   0 | 1 | 1 |\n| 2 | 1 | 1 | 2016 |  8 | 2 | 4 | 5 | 7 | 88 | 1 | 4 | 1 |  0 |   0 | 1 | 1 |\n| 3 | 1 | 1 | 2016 | 13 | 2 | 5 | 7 | 7 | 88 | 1 | 1 | 1 | 14 | 100 | 1 | 1 |\n\n",
            "text/latex": "A data.frame: 3 × 16\n\\begin{tabular}{r|llllllllllllllll}\n  & state & interview\\_month & interview\\_year & age\\_group & sex & education\\_level & employment\\_status & househole\\_income & number\\_children\\_household & race & cig\\_status & ecig\\_status & drinks\\_daily & drinks\\_weekly & binge\\_drink\\_status & heavy\\_drink\\_status\\\\\n  & <int> & <int> & <int> & <int> & <int> & <int> & <int> & <int> & <int> & <int> & <int> & <int> & <int> & <int> & <int> & <int>\\\\\n\\hline\n\t1 & 1 & 1 & 2016 &  5 & 1 & 4 & 1 & 5 &  3 & 1 & 4 & 1 &  0 &   0 & 1 & 1\\\\\n\t2 & 1 & 1 & 2016 &  8 & 2 & 4 & 5 & 7 & 88 & 1 & 4 & 1 &  0 &   0 & 1 & 1\\\\\n\t3 & 1 & 1 & 2016 & 13 & 2 & 5 & 7 & 7 & 88 & 1 & 1 & 1 & 14 & 100 & 1 & 1\\\\\n\\end{tabular}\n",
            "text/plain": [
              "  state interview_month interview_year age_group sex education_level\n",
              "1 1     1               2016            5        1   4              \n",
              "2 1     1               2016            8        2   4              \n",
              "3 1     1               2016           13        2   5              \n",
              "  employment_status househole_income number_children_household race cig_status\n",
              "1 1                 5                 3                        1    4         \n",
              "2 5                 7                88                        1    4         \n",
              "3 7                 7                88                        1    1         \n",
              "  ecig_status drinks_daily drinks_weekly binge_drink_status heavy_drink_status\n",
              "1 1            0             0           1                  1                 \n",
              "2 1            0             0           1                  1                 \n",
              "3 1           14           100           1                  1                 "
            ]
          },
          "metadata": {}
        }
      ],
      "source": [
        "brfss <- read.csv(\"/content/brfss_all_except 2019.csv\")\n",
        "nrow(brfss)\n",
        "\n",
        "head(brfss,3)"
      ]
    },
    {
      "cell_type": "markdown",
      "metadata": {
        "id": "8ec8c87e"
      },
      "source": [
        "# Task\n",
        "Create a dummy variable column named `tax_implemented` in the `brfss` dataframe. The column should indicate whether a tax was implemented (1) or not (0) based on the tax implementation data provided in CDC state tax control. The dummy variable should be based on the state, year, and month of the data point in the `brfss` dataframe, considering the effective month and year from the `tax` dataframe. Note that for 2016, Pennsylvania's effective month is October and West Virginia's is July, which should be handled in addition to the data in the Excel file."
      ]
    },
    {
      "cell_type": "markdown",
      "metadata": {
        "id": "4589b453"
      },
      "source": [
        "## Prepare tax data\n",
        "\n",
        "### Subtask:\n",
        "Clean and format the `tax_df` to easily join with `brfss`, including handling the 2016 exceptions for Pennsylvania and West Virginia.\n"
      ]
    },
    {
      "cell_type": "markdown",
      "metadata": {
        "id": "ba621860"
      },
      "source": [
        "**Reasoning**:\n",
        "Clean and format the `tax_df` dataframe, handle missing values, rename columns, convert effective month to numerical representation, add 2016 exceptions for Pennsylvania and West Virginia, and combine with the original dataframe, ensuring consistent data types for join keys.\n",
        "\n"
      ]
    },
    {
      "cell_type": "code",
      "metadata": {
        "colab": {
          "base_uri": "https://localhost:8080/",
          "height": 212
        },
        "id": "c939f763",
        "outputId": "83a6224b-277b-4169-b29e-ee2b4de182d4"
      },
      "source": [
        "tax <- read_xlsx(\"/content/Tax_implementation_with_FIPS_effective date.xlsx\")\n",
        "# tax_clean must contain one effective date per state (earliest if multiple)\n",
        "tax_clean <- tax %>%\n",
        "  transmute(\n",
        "    FIPS_state      = as.integer(FIPS_Code),\n",
        "    effective_year  = as.integer(effective_year),\n",
        "    effective_month = as.integer(effective_month)\n",
        "  ) %>%\n",
        "  mutate(\n",
        "    # special cases for 2016\n",
        "    effective_month = dplyr::case_when(\n",
        "      FIPS_state == 42L & effective_year == 2016L ~ 10L, # PA → Oct 2016\n",
        "      FIPS_state == 54L & effective_year == 2016L ~  7L, # WV → Jul 2016\n",
        "      TRUE ~ effective_month\n",
        "    )\n",
        "  ) %>%\n",
        "  arrange(FIPS_state, effective_year, effective_month) %>%\n",
        "  distinct(FIPS_state, .keep_all = TRUE) %>%\n",
        "  mutate(effective_ym = effective_year * 12L + effective_month)\n",
        "\n",
        "##--- Build brfss2 and add the two dummies -----------------------------------\n",
        "brfss2 <- brfss %>%\n",
        "  mutate(\n",
        "    FIPS_state      = as.integer(state),         # temporary for the join\n",
        "    interview_year  = as.integer(interview_year),\n",
        "    interview_month = as.integer(interview_month),\n",
        "    interview_ym    = interview_year * 12L + interview_month\n",
        "  ) %>%\n",
        "  filter(interview_year != 2025) %>% # Filter out year 2025\n",
        "  left_join(\n",
        "    tax_clean %>% select(FIPS_state, effective_year, effective_month, effective_ym),\n",
        "    by = \"FIPS_state\"\n",
        "  ) %>%\n",
        "  mutate(\n",
        "    # already-in-sample \"post\" dummy\n",
        "    tax_implemented = if_else(\n",
        "      !is.na(effective_ym) & !is.na(interview_ym) & interview_ym >= effective_ym, 1L, 0L\n",
        "    ),\n",
        "    # 1 if interview happens in the exact implementation month/year\n",
        "    tax_implemented_month = if_else(\n",
        "      !is.na(effective_year) & !is.na(effective_month) &\n",
        "      interview_year == effective_year & interview_month == effective_month,\n",
        "      1L, 0L\n",
        "    ),\n",
        "    # 1 if interview happens in the implementation year\n",
        "    tax_implemented_year  = if_else(\n",
        "      !is.na(effective_year) & interview_year == effective_year,\n",
        "      1L, 0L\n",
        "    )\n",
        "  ) %>%\n",
        "  # drop helper columns so they are NOT included in brfss2\n",
        "  select(-FIPS_state, -effective_year, -effective_month, -effective_ym, -interview_ym)\n",
        "\n",
        "head(brfss2,3)"
      ],
      "execution_count": 52,
      "outputs": [
        {
          "output_type": "display_data",
          "data": {
            "text/html": [
              "<table class=\"dataframe\">\n",
              "<caption>A data.frame: 3 × 19</caption>\n",
              "<thead>\n",
              "\t<tr><th></th><th scope=col>state</th><th scope=col>interview_month</th><th scope=col>interview_year</th><th scope=col>age_group</th><th scope=col>sex</th><th scope=col>education_level</th><th scope=col>employment_status</th><th scope=col>househole_income</th><th scope=col>number_children_household</th><th scope=col>race</th><th scope=col>cig_status</th><th scope=col>ecig_status</th><th scope=col>drinks_daily</th><th scope=col>drinks_weekly</th><th scope=col>binge_drink_status</th><th scope=col>heavy_drink_status</th><th scope=col>tax_implemented</th><th scope=col>tax_implemented_month</th><th scope=col>tax_implemented_year</th></tr>\n",
              "\t<tr><th></th><th scope=col>&lt;int&gt;</th><th scope=col>&lt;int&gt;</th><th scope=col>&lt;int&gt;</th><th scope=col>&lt;int&gt;</th><th scope=col>&lt;int&gt;</th><th scope=col>&lt;int&gt;</th><th scope=col>&lt;int&gt;</th><th scope=col>&lt;int&gt;</th><th scope=col>&lt;int&gt;</th><th scope=col>&lt;int&gt;</th><th scope=col>&lt;int&gt;</th><th scope=col>&lt;int&gt;</th><th scope=col>&lt;int&gt;</th><th scope=col>&lt;int&gt;</th><th scope=col>&lt;int&gt;</th><th scope=col>&lt;int&gt;</th><th scope=col>&lt;int&gt;</th><th scope=col>&lt;int&gt;</th><th scope=col>&lt;int&gt;</th></tr>\n",
              "</thead>\n",
              "<tbody>\n",
              "\t<tr><th scope=row>1</th><td>1</td><td>1</td><td>2016</td><td> 5</td><td>1</td><td>4</td><td>1</td><td>5</td><td> 3</td><td>1</td><td>4</td><td>1</td><td> 0</td><td>  0</td><td>1</td><td>1</td><td>0</td><td>0</td><td>0</td></tr>\n",
              "\t<tr><th scope=row>2</th><td>1</td><td>1</td><td>2016</td><td> 8</td><td>2</td><td>4</td><td>5</td><td>7</td><td>88</td><td>1</td><td>4</td><td>1</td><td> 0</td><td>  0</td><td>1</td><td>1</td><td>0</td><td>0</td><td>0</td></tr>\n",
              "\t<tr><th scope=row>3</th><td>1</td><td>1</td><td>2016</td><td>13</td><td>2</td><td>5</td><td>7</td><td>7</td><td>88</td><td>1</td><td>1</td><td>1</td><td>14</td><td>100</td><td>1</td><td>1</td><td>0</td><td>0</td><td>0</td></tr>\n",
              "</tbody>\n",
              "</table>\n"
            ],
            "text/markdown": "\nA data.frame: 3 × 19\n\n| <!--/--> | state &lt;int&gt; | interview_month &lt;int&gt; | interview_year &lt;int&gt; | age_group &lt;int&gt; | sex &lt;int&gt; | education_level &lt;int&gt; | employment_status &lt;int&gt; | househole_income &lt;int&gt; | number_children_household &lt;int&gt; | race &lt;int&gt; | cig_status &lt;int&gt; | ecig_status &lt;int&gt; | drinks_daily &lt;int&gt; | drinks_weekly &lt;int&gt; | binge_drink_status &lt;int&gt; | heavy_drink_status &lt;int&gt; | tax_implemented &lt;int&gt; | tax_implemented_month &lt;int&gt; | tax_implemented_year &lt;int&gt; |\n|---|---|---|---|---|---|---|---|---|---|---|---|---|---|---|---|---|---|---|---|\n| 1 | 1 | 1 | 2016 |  5 | 1 | 4 | 1 | 5 |  3 | 1 | 4 | 1 |  0 |   0 | 1 | 1 | 0 | 0 | 0 |\n| 2 | 1 | 1 | 2016 |  8 | 2 | 4 | 5 | 7 | 88 | 1 | 4 | 1 |  0 |   0 | 1 | 1 | 0 | 0 | 0 |\n| 3 | 1 | 1 | 2016 | 13 | 2 | 5 | 7 | 7 | 88 | 1 | 1 | 1 | 14 | 100 | 1 | 1 | 0 | 0 | 0 |\n\n",
            "text/latex": "A data.frame: 3 × 19\n\\begin{tabular}{r|lllllllllllllllllll}\n  & state & interview\\_month & interview\\_year & age\\_group & sex & education\\_level & employment\\_status & househole\\_income & number\\_children\\_household & race & cig\\_status & ecig\\_status & drinks\\_daily & drinks\\_weekly & binge\\_drink\\_status & heavy\\_drink\\_status & tax\\_implemented & tax\\_implemented\\_month & tax\\_implemented\\_year\\\\\n  & <int> & <int> & <int> & <int> & <int> & <int> & <int> & <int> & <int> & <int> & <int> & <int> & <int> & <int> & <int> & <int> & <int> & <int> & <int>\\\\\n\\hline\n\t1 & 1 & 1 & 2016 &  5 & 1 & 4 & 1 & 5 &  3 & 1 & 4 & 1 &  0 &   0 & 1 & 1 & 0 & 0 & 0\\\\\n\t2 & 1 & 1 & 2016 &  8 & 2 & 4 & 5 & 7 & 88 & 1 & 4 & 1 &  0 &   0 & 1 & 1 & 0 & 0 & 0\\\\\n\t3 & 1 & 1 & 2016 & 13 & 2 & 5 & 7 & 7 & 88 & 1 & 1 & 1 & 14 & 100 & 1 & 1 & 0 & 0 & 0\\\\\n\\end{tabular}\n",
            "text/plain": [
              "  state interview_month interview_year age_group sex education_level\n",
              "1 1     1               2016            5        1   4              \n",
              "2 1     1               2016            8        2   4              \n",
              "3 1     1               2016           13        2   5              \n",
              "  employment_status househole_income number_children_household race cig_status\n",
              "1 1                 5                 3                        1    4         \n",
              "2 5                 7                88                        1    4         \n",
              "3 7                 7                88                        1    1         \n",
              "  ecig_status drinks_daily drinks_weekly binge_drink_status heavy_drink_status\n",
              "1 1            0             0           1                  1                 \n",
              "2 1            0             0           1                  1                 \n",
              "3 1           14           100           1                  1                 \n",
              "  tax_implemented tax_implemented_month tax_implemented_year\n",
              "1 0               0                     0                   \n",
              "2 0               0                     0                   \n",
              "3 0               0                     0                   "
            ]
          },
          "metadata": {}
        }
      ]
    },
    {
      "cell_type": "code",
      "source": [
        "nrow(brfss2)"
      ],
      "metadata": {
        "colab": {
          "base_uri": "https://localhost:8080/",
          "height": 34
        },
        "id": "zbAqjgggt0w5",
        "outputId": "020bd117-0e8f-4ad8-9554-681bc83ec2a2"
      },
      "execution_count": 53,
      "outputs": [
        {
          "output_type": "display_data",
          "data": {
            "text/html": [
              "2392682"
            ],
            "text/markdown": "2392682",
            "text/latex": "2392682",
            "text/plain": [
              "[1] 2392682"
            ]
          },
          "metadata": {}
        }
      ]
    },
    {
      "cell_type": "code",
      "source": [
        "set.seed(250820) # just so that everyone have the same sample for comparison\n",
        "brfss_sample = brfss2[ sample(nrow(brfss2),5000), ]"
      ],
      "metadata": {
        "id": "IF_uk2COO3Du"
      },
      "execution_count": 54,
      "outputs": []
    },
    {
      "cell_type": "code",
      "source": [
        "write.csv(brfss_sample , \"brfss2_sample_with_tax_dummies.csv\", row.names = FALSE, na = \"\")"
      ],
      "metadata": {
        "id": "S5oxM4c6Ef_0"
      },
      "execution_count": 55,
      "outputs": []
    },
    {
      "cell_type": "markdown",
      "metadata": {
        "id": "189a8f09"
      },
      "source": [
        "# Task\n",
        "Create histograms of percentage of ecigarette, cigarete, alcohol usage (daily, weekly, binge and heavy drinker) from year 2016-2024 using data from the file \"brfss2.csv\"."
      ]
    },
    {
      "cell_type": "markdown",
      "metadata": {
        "id": "70ba9785"
      },
      "source": [
        "## EDA\n",
        "\n",
        "### Histogram of average usage from 2016-2024:\n",
        "Select the relevant columns for plotting from `brfss2` and calculate the percentage for each usage category.\n",
        "\n",
        "For year 2018-2020, due to the fact that many respondent reported to omit answering Ecigarette status, I used data from NHIS to calculate the average usage of ecigrette for those year.\n",
        "\n",
        "I try to calculate manually from the available data in BRFSS, resulting in a really large percentage compared to other years, indicating this method didn't reflect the true population usage."
      ]
    },
    {
      "cell_type": "markdown",
      "metadata": {
        "id": "57023c7c"
      },
      "source": [
        "**Reasoning**:\n",
        "Select relevant columns, group by year, and calculate the percentage for each usage category, then store results in a new dataframe.\n",
        "\n"
      ]
    },
    {
      "cell_type": "code",
      "metadata": {
        "colab": {
          "base_uri": "https://localhost:8080/"
        },
        "id": "d611889a",
        "outputId": "67164907-246e-4e3e-d7a4-0fb47b038ad9"
      },
      "source": [
        "brfss2_percentages <- brfss2 %>%\n",
        "  select(\n",
        "    interview_year, ecig_status, cig_status,\n",
        "    drinks_daily, drinks_weekly,\n",
        "    binge_drink_status, heavy_drink_status\n",
        "  ) %>%\n",
        "  group_by(interview_year) %>%\n",
        "  summarise(\n",
        "    ecig_percentage         = 100 * mean(ecig_status == 2, na.rm = TRUE),\n",
        "    cig_percentage          = 100 * mean(cig_status %in% c(1, 2), na.rm = TRUE),\n",
        "    drinks_daily            = mean(drinks_daily,  na.rm = TRUE),  # average level\n",
        "    drinks_weekly           = mean(drinks_weekly, na.rm = TRUE),  # average level\n",
        "    binge_drink_percentage  = 100 * mean(binge_drink_status == 2, na.rm = TRUE),\n",
        "    heavy_drink_percentage  = 100 * mean(heavy_drink_status == 2, na.rm = TRUE),\n",
        "    .groups = \"drop\"\n",
        "  )\n",
        "\n",
        "print(brfss2_percentages)"
      ],
      "execution_count": 56,
      "outputs": [
        {
          "output_type": "stream",
          "name": "stdout",
          "text": [
            "\u001b[90m# A tibble: 9 × 7\u001b[39m\n",
            "  interview_year ecig_percentage cig_percentage drinks_daily drinks_weekly\n",
            "           \u001b[3m\u001b[90m<int>\u001b[39m\u001b[23m           \u001b[3m\u001b[90m<dbl>\u001b[39m\u001b[23m          \u001b[3m\u001b[90m<dbl>\u001b[39m\u001b[23m        \u001b[3m\u001b[90m<dbl>\u001b[39m\u001b[23m         \u001b[3m\u001b[90m<dbl>\u001b[39m\u001b[23m\n",
            "\u001b[90m1\u001b[39m           \u001b[4m2\u001b[24m016            3.34           15.0         17.3          298.\n",
            "\u001b[90m2\u001b[39m           \u001b[4m2\u001b[24m017            3.20           14.8         17.0          294.\n",
            "\u001b[90m3\u001b[39m           \u001b[4m2\u001b[24m018           18.0            14.9         17.2          310.\n",
            "\u001b[90m4\u001b[39m           \u001b[4m2\u001b[24m019           17.3            13.8         15.9          282.\n",
            "\u001b[90m5\u001b[39m           \u001b[4m2\u001b[24m020           20.0            14.5         17.3          306.\n",
            "\u001b[90m6\u001b[39m           \u001b[4m2\u001b[24m021            4.92           13.3         16.9          298.\n",
            "\u001b[90m7\u001b[39m           \u001b[4m2\u001b[24m022            5.37           12.3         17.5          313.\n",
            "\u001b[90m8\u001b[39m           \u001b[4m2\u001b[24m023            5.54           11.2         17.0          294.\n",
            "\u001b[90m9\u001b[39m           \u001b[4m2\u001b[24m024            5.79           11.1         16.0          291.\n",
            "\u001b[90m# ℹ 2 more variables: binge_drink_percentage <dbl>,\u001b[39m\n",
            "\u001b[90m#   heavy_drink_percentage <dbl>\u001b[39m\n"
          ]
        }
      ]
    },
    {
      "cell_type": "markdown",
      "metadata": {
        "id": "2031de7d"
      },
      "source": [
        "**Reasoning**:\n",
        "Generate histograms for each usage category using the calculated percentages over the years."
      ]
    },
    {
      "cell_type": "markdown",
      "metadata": {
        "id": "d2fd3bad"
      },
      "source": [
        "### Histogram for E-cigarette Usage"
      ]
    },
    {
      "cell_type": "code",
      "metadata": {
        "colab": {
          "base_uri": "https://localhost:8080/"
        },
        "id": "094b7d9d",
        "outputId": "dd914e20-d999-41f4-83fd-3736bcd229aa"
      },
      "source": [
        "# Load NIHS\n",
        "nhis <- read_dta(\"/content/nhis_00013.dta\")\n",
        "\n",
        "# For 2019 and 2020\n",
        "# Filter out rows based on 'ecigstatus' values\n",
        "nhis_2019_2020_filtered <- nhis %>%\n",
        "  filter(year %in% c(2019, 2020)) %>%\n",
        "  filter(!ecigstatus %in% c(0, 4, 9)) %>%\n",
        "  select(year, serial, strata, psu, nhishid, ecigstatus)\n",
        "\n",
        "# Calculate ecigarette usage from NHIS data for 2019-2020\n",
        "nhis_percentages_2019_2020 <- nhis_2019_2020_filtered %>%\n",
        "  group_by(year) %>%\n",
        "  summarise(\n",
        "    ecig_percentage = 100 * mean(ecigstatus == 3, na.rm = TRUE),\n",
        "    .groups = \"drop\"\n",
        "  ) %>%\n",
        "  rename(interview_year = year)\n",
        "\n",
        "# For 2018, due to lack of data, only used approximation for EDA\n",
        "nhis_2018_filtered <- nhis %>%\n",
        "  filter(year == 2018 ) %>%\n",
        "  select(year, serial, strata, psu, nhishid, eciged, ecigev)\n",
        "\n",
        "ecig_users_2018 <- nhis_2018_filtered %>%\n",
        "  filter(ecigev == 2 | eciged %in% c(1, 2))\n",
        "\n",
        "nhis_percentage_2018_df <- data.frame(\n",
        "  interview_year = 2018,\n",
        "  ecig_percentage = (nrow(ecig_users_2018) / nrow(nhis_2018_filtered)) * 100\n",
        ")\n",
        "\n",
        "\n",
        "# Combine 2018, 2019, and 2020 NHIS percentages\n",
        "nhis_ecig_percentages_combined <- bind_rows(nhis_percentage_2018_df, nhis_percentages_2019_2020) %>%\n",
        "  arrange(interview_year)\n",
        "\n",
        "print(nhis_ecig_percentages_combined)"
      ],
      "execution_count": 57,
      "outputs": [
        {
          "output_type": "stream",
          "name": "stdout",
          "text": [
            "  interview_year ecig_percentage\n",
            "1           2018        5.040436\n",
            "2           2019        3.848001\n",
            "3           2020        2.803135\n"
          ]
        }
      ]
    },
    {
      "cell_type": "code",
      "source": [
        "# Replace BRFSS ecigarette data for 2018-2020 with NHIS data\n",
        "brfss2_percentages <- brfss2_percentages %>%\n",
        "  rows_update(nhis_ecig_percentages_combined, by = \"interview_year\") %>%\n",
        "  arrange(interview_year)\n",
        "\n",
        "print(brfss2_percentages)"
      ],
      "metadata": {
        "colab": {
          "base_uri": "https://localhost:8080/"
        },
        "id": "lXJp_kqN7xM9",
        "outputId": "5ed11e4b-f630-45bb-b05f-a9f28b001df9"
      },
      "execution_count": 58,
      "outputs": [
        {
          "output_type": "stream",
          "name": "stdout",
          "text": [
            "\u001b[90m# A tibble: 9 × 7\u001b[39m\n",
            "  interview_year ecig_percentage cig_percentage drinks_daily drinks_weekly\n",
            "           \u001b[3m\u001b[90m<int>\u001b[39m\u001b[23m           \u001b[3m\u001b[90m<dbl>\u001b[39m\u001b[23m          \u001b[3m\u001b[90m<dbl>\u001b[39m\u001b[23m        \u001b[3m\u001b[90m<dbl>\u001b[39m\u001b[23m         \u001b[3m\u001b[90m<dbl>\u001b[39m\u001b[23m\n",
            "\u001b[90m1\u001b[39m           \u001b[4m2\u001b[24m016            3.34           15.0         17.3          298.\n",
            "\u001b[90m2\u001b[39m           \u001b[4m2\u001b[24m017            3.20           14.8         17.0          294.\n",
            "\u001b[90m3\u001b[39m           \u001b[4m2\u001b[24m018            5.04           14.9         17.2          310.\n",
            "\u001b[90m4\u001b[39m           \u001b[4m2\u001b[24m019            3.85           13.8         15.9          282.\n",
            "\u001b[90m5\u001b[39m           \u001b[4m2\u001b[24m020            2.80           14.5         17.3          306.\n",
            "\u001b[90m6\u001b[39m           \u001b[4m2\u001b[24m021            4.92           13.3         16.9          298.\n",
            "\u001b[90m7\u001b[39m           \u001b[4m2\u001b[24m022            5.37           12.3         17.5          313.\n",
            "\u001b[90m8\u001b[39m           \u001b[4m2\u001b[24m023            5.54           11.2         17.0          294.\n",
            "\u001b[90m9\u001b[39m           \u001b[4m2\u001b[24m024            5.79           11.1         16.0          291.\n",
            "\u001b[90m# ℹ 2 more variables: binge_drink_percentage <dbl>,\u001b[39m\n",
            "\u001b[90m#   heavy_drink_percentage <dbl>\u001b[39m\n"
          ]
        }
      ]
    },
    {
      "cell_type": "markdown",
      "metadata": {
        "id": "2d803214"
      },
      "source": [
        "# Histogram for E-cigarette Usage"
      ]
    },
    {
      "cell_type": "code",
      "metadata": {
        "colab": {
          "base_uri": "https://localhost:8080/",
          "height": 437
        },
        "id": "be002e47",
        "outputId": "c214e201-9678-476a-db65-d0c82033b60d"
      },
      "source": [
        "# Histogram for E-cigarette Usage with updated data for 2018-2020\n",
        "ggplot(brfss2_percentages, aes(x = factor(interview_year), y = ecig_percentage)) +\n",
        "  geom_bar(stat = \"identity\", fill = \"skyblue\") +\n",
        "  labs(title = \"Percentage of E-cigarette Usage Over Years (with NHIS data for 2018-2020)\",\n",
        "       x = \"Year\",\n",
        "       y = \"Percentage\") +\n",
        "  theme_minimal() +\n",
        "  scale_y_continuous(breaks = seq(0, max(brfss2_percentages$ecig_percentage, na.rm = TRUE), by = 2))"
      ],
      "execution_count": 65,
      "outputs": [
        {
          "output_type": "display_data",
          "data": {
            "text/plain": [
              "plot without title"
            ],
            "image/png": "[encoded data removed]"
          },
          "metadata": {
            "image/png": {
              "width": 420,
              "height": 420
            }
          }
        }
      ]
    },
    {
      "cell_type": "markdown",
      "metadata": {
        "id": "5520d56b"
      },
      "source": [
        "### Histogram for Cigarette Usage"
      ]
    },
    {
      "cell_type": "code",
      "metadata": {
        "colab": {
          "base_uri": "https://localhost:8080/",
          "height": 437
        },
        "id": "f88a1b59",
        "outputId": "77868d24-4750-4a50-ad62-f0d78c2d8a1b"
      },
      "source": [
        "# Histogram for Cigarette Usage\n",
        "ggplot(brfss2_percentages, aes(x = factor(interview_year), y = cig_percentage)) +\n",
        "  geom_bar(stat = \"identity\", fill = \"lightgreen\") +\n",
        "  labs(title = \"Percentage of Cigarette Usage Over Years\",\n",
        "       x = \"Year\",\n",
        "       y = \"Percentage\") +\n",
        "  theme_minimal() +\n",
        "  scale_y_continuous(breaks = seq(0, max(brfss2_percentages$cig_percentage, na.rm = TRUE), by = 2))"
      ],
      "execution_count": 60,
      "outputs": [
        {
          "output_type": "display_data",
          "data": {
            "text/plain": [
              "plot without title"
            ],
            "image/png": "[encoded data removed]"
          },
          "metadata": {
            "image/png": {
              "width": 420,
              "height": 420
            }
          }
        }
      ]
    },
    {
      "cell_type": "markdown",
      "metadata": {
        "id": "3be78159"
      },
      "source": [
        "### Histogram for Daily Alcohol Consumption"
      ]
    },
    {
      "cell_type": "code",
      "metadata": {
        "colab": {
          "base_uri": "https://localhost:8080/",
          "height": 437
        },
        "id": "9a2932ab",
        "outputId": "1bf67278-cbfb-4114-aa7e-499fda9d9c2a"
      },
      "source": [
        "# Histogram for Daily Alcohol Consumption\n",
        "ggplot(brfss2_percentages, aes(x = factor(interview_year), y = drinks_daily)) +\n",
        "  geom_bar(stat = \"identity\", fill = \"salmon\") +\n",
        "  labs(title = \"Average Daily Alcohol Consumption Over Years\",\n",
        "       x = \"Year\",\n",
        "       y = \"Average Number of Drinks\") +\n",
        "  theme_minimal() +\n",
        "scale_y_continuous(breaks = seq(0, max(brfss2_percentages$drinks_daily, na.rm = TRUE), by = 2))"
      ],
      "execution_count": 61,
      "outputs": [
        {
          "output_type": "display_data",
          "data": {
            "text/plain": [
              "plot without title"
            ],
            "image/png": "[encoded data removed]"
          },
          "metadata": {
            "image/png": {
              "width": 420,
              "height": 420
            }
          }
        }
      ]
    },
    {
      "cell_type": "markdown",
      "metadata": {
        "id": "49841b39"
      },
      "source": [
        "### Histogram for Weekly Alcohol Consumption"
      ]
    },
    {
      "cell_type": "code",
      "metadata": {
        "colab": {
          "base_uri": "https://localhost:8080/",
          "height": 437
        },
        "id": "2aaa19f0",
        "outputId": "ef340cf1-ad2f-4abf-9012-eb018b6b4c2c"
      },
      "source": [
        "# Histogram for Weekly Alcohol Consumption\n",
        "ggplot(brfss2_percentages, aes(x = factor(interview_year), y = drinks_weekly)) +\n",
        "  geom_bar(stat = \"identity\", fill = \"gold\") +\n",
        "  labs(title = \"Average Weekly Alcohol Consumption Over Years\",\n",
        "       x = \"Year\",\n",
        "       y = \"Average Number of Drinks\") +\n",
        "  theme_minimal() +\n",
        "scale_y_continuous(breaks = seq(0, max(brfss2_percentages$drinks_weekly, na.rm = TRUE), by = 50))"
      ],
      "execution_count": 62,
      "outputs": [
        {
          "output_type": "display_data",
          "data": {
            "text/plain": [
              "plot without title"
            ],
            "image/png": "[encoded data removed]"
          },
          "metadata": {
            "image/png": {
              "width": 420,
              "height": 420
            }
          }
        }
      ]
    },
    {
      "cell_type": "markdown",
      "metadata": {
        "id": "ee9f3bf6"
      },
      "source": [
        "### Histogram for Binge Drinking"
      ]
    },
    {
      "cell_type": "code",
      "metadata": {
        "colab": {
          "base_uri": "https://localhost:8080/",
          "height": 437
        },
        "id": "4df754d5",
        "outputId": "35bab69b-2050-426f-b806-1717855e541b"
      },
      "source": [
        "# Histogram for Binge Drinking\n",
        "ggplot(brfss2_percentages, aes(x = factor(interview_year), y = binge_drink_percentage)) +\n",
        "  geom_bar(stat = \"identity\", fill = \"purple\") +\n",
        "  labs(title = \"Percentage of Binge Drinking User Over Years\",\n",
        "       x = \"Year\",\n",
        "       y = \"Percentage\") +\n",
        "  theme_minimal() +\n",
        "scale_y_continuous(breaks = seq(0, max(brfss2_percentages$binge_drink_percentage, na.rm = TRUE), by = 2))"
      ],
      "execution_count": 63,
      "outputs": [
        {
          "output_type": "display_data",
          "data": {
            "text/plain": [
              "plot without title"
            ],
            "image/png": "[encoded data removed]"
          },
          "metadata": {
            "image/png": {
              "width": 420,
              "height": 420
            }
          }
        }
      ]
    },
    {
      "cell_type": "markdown",
      "metadata": {
        "id": "cc008df8"
      },
      "source": [
        "### Histogram for Heavy Drinking"
      ]
    },
    {
      "cell_type": "code",
      "metadata": {
        "colab": {
          "base_uri": "https://localhost:8080/",
          "height": 437
        },
        "id": "002e3488",
        "outputId": "7283ccc4-1413-4d47-be1d-4b0ac4c7fcaf"
      },
      "source": [
        "# Histogram for Heavy Drinking\n",
        "ggplot(brfss2_percentages, aes(x = factor(interview_year), y = heavy_drink_percentage)) +\n",
        "  geom_bar(stat = \"identity\", fill = \"orange\") +\n",
        "  labs(title = \"Percentage of Heavy Alcohol User Over Years\",\n",
        "       x = \"Year\",\n",
        "       y = \"Percentage\") +\n",
        "  theme_minimal() +\n",
        "scale_y_continuous(breaks = seq(0, max(brfss2_percentages$heavy_drink_percentage, na.rm = TRUE), by = 2))"
      ],
      "execution_count": 64,
      "outputs": [
        {
          "output_type": "display_data",
          "data": {
            "text/plain": [
              "plot without title"
            ],
            "image/png": "[encoded data removed]"
          },
          "metadata": {
            "image/png": {
              "width": 420,
              "height": 420
            }
          }
        }
      ]
    }
  ]
}